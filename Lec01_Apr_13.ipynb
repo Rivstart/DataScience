{
  "nbformat": 4,
  "nbformat_minor": 0,
  "metadata": {
    "colab": {
      "provenance": [],
      "authorship_tag": "ABX9TyM1RWt+qEeU1N7KU4KPO4kd",
      "include_colab_link": true
    },
    "kernelspec": {
      "name": "python3",
      "display_name": "Python 3"
    },
    "language_info": {
      "name": "python"
    }
  },
  "cells": [
    {
      "cell_type": "markdown",
      "metadata": {
        "id": "view-in-github",
        "colab_type": "text"
      },
      "source": [
        "<a href=\"https://colab.research.google.com/github/Rivstart/DataScience/blob/Week01/Lec01_Apr_13.ipynb\" target=\"_parent\"><img src=\"https://colab.research.google.com/assets/colab-badge.svg\" alt=\"Open In Colab\"/></a>"
      ]
    },
    {
      "cell_type": "code",
      "source": [
        "# print function prints output to the console\n",
        "print('hello world')"
      ],
      "metadata": {
        "colab": {
          "base_uri": "https://localhost:8080/"
        },
        "id": "gpRmwzac3p2_",
        "outputId": "b122466b-535d-4e43-d587-27d35c4327b6"
      },
      "execution_count": 28,
      "outputs": [
        {
          "output_type": "stream",
          "name": "stdout",
          "text": [
            "hello world\n"
          ]
        }
      ]
    },
    {
      "cell_type": "code",
      "source": [
        "# by default python uses newline '\\n' as an 'end' parameter value\n",
        "print('hello')\n",
        "print('world')"
      ],
      "metadata": {
        "colab": {
          "base_uri": "https://localhost:8080/"
        },
        "id": "zF5gNBGH4P6m",
        "outputId": "5bfc6e91-b8a4-4c90-8859-a2c59f18161f"
      },
      "execution_count": 38,
      "outputs": [
        {
          "output_type": "stream",
          "name": "stdout",
          "text": [
            "hello\n",
            "world\n"
          ]
        }
      ]
    },
    {
      "cell_type": "code",
      "source": [
        "# overwriting the 'end' value with hyphen, by default its '\\n' newline character\n",
        "print('hello', end='-')\n",
        "print('world')"
      ],
      "metadata": {
        "colab": {
          "base_uri": "https://localhost:8080/"
        },
        "id": "khqhoSmp4b3E",
        "outputId": "2aad809b-ca80-445c-a4ec-11b0e0487125"
      },
      "execution_count": 30,
      "outputs": [
        {
          "output_type": "stream",
          "name": "stdout",
          "text": [
            "hello-world\n"
          ]
        }
      ]
    },
    {
      "cell_type": "code",
      "source": [
        "# passing multiple values\n",
        "print('apple', 'banana','orange')"
      ],
      "metadata": {
        "colab": {
          "base_uri": "https://localhost:8080/"
        },
        "id": "c8Zyj1Gr4ofm",
        "outputId": "569190aa-b146-4c37-d098-4f54d2534267"
      },
      "execution_count": 29,
      "outputs": [
        {
          "output_type": "stream",
          "name": "stdout",
          "text": [
            "apple banana orange\n"
          ]
        }
      ]
    },
    {
      "cell_type": "code",
      "source": [
        "# use 'sep' to separate values with any special chanracter\n",
        "print('apple', 'pears','grapes', sep=',')"
      ],
      "metadata": {
        "colab": {
          "base_uri": "https://localhost:8080/"
        },
        "id": "lF1Cyj7d5zy9",
        "outputId": "99e8e497-6793-4c8d-8711-8baa3adf359f"
      },
      "execution_count": 27,
      "outputs": [
        {
          "output_type": "stream",
          "name": "stdout",
          "text": [
            "apple,pears,grapes\n"
          ]
        }
      ]
    },
    {
      "cell_type": "code",
      "source": [
        "# input function takes user input\n",
        "user_input = input('Enter your name : ')\n",
        "print('Hello ' + user_input)\n",
        "print(type(user_input))"
      ],
      "metadata": {
        "colab": {
          "base_uri": "https://localhost:8080/"
        },
        "id": "B5zuxY5t59X9",
        "outputId": "ebfebd09-20d6-426a-db06-5311cc694e56"
      },
      "execution_count": 26,
      "outputs": [
        {
          "output_type": "stream",
          "name": "stdout",
          "text": [
            "Enter your name : John Doe\n",
            "Hello John Doe\n",
            "<class 'str'>\n"
          ]
        }
      ]
    },
    {
      "cell_type": "code",
      "source": [
        "# how to use multiple line comments using triple quotes\n",
        "'''\n",
        "This is very long multiline line comment, multiline comments are used where to write details of any function that how it works\n",
        "'''\n",
        "print('multiline line comment')"
      ],
      "metadata": {
        "colab": {
          "base_uri": "https://localhost:8080/"
        },
        "id": "UeyH8jei7ABl",
        "outputId": "64cde2c4-cd6e-4e37-9692-0ac4368c17fc"
      },
      "execution_count": 31,
      "outputs": [
        {
          "output_type": "stream",
          "name": "stdout",
          "text": [
            "multiline line comment\n"
          ]
        }
      ]
    },
    {
      "cell_type": "code",
      "source": [
        "# indentation\n",
        "x = 5\n",
        "if x > 3:\n",
        "  print(f'{x} is greater')"
      ],
      "metadata": {
        "colab": {
          "base_uri": "https://localhost:8080/"
        },
        "id": "DUYNBLV0-I_t",
        "outputId": "c31d92cf-30d6-47d1-e1ef-e6b7feeb3183"
      },
      "execution_count": 23,
      "outputs": [
        {
          "output_type": "stream",
          "name": "stdout",
          "text": [
            "5 is greater\n"
          ]
        }
      ]
    },
    {
      "cell_type": "code",
      "source": [
        "# variables, always give meaningful names to variables\n",
        "# never use python keywords as user defined variable names\n",
        "total_number_of_students = 20\n",
        "\n",
        "# assigning multiple values to multiple variables in single line\n",
        "# if number of variables on left hand side is not equal to the values assigned on right hand side, it will generate error\n",
        "x, y, z = 5, 3, 2\n",
        "print(f'x : {x}, y : {y}, z : {z}')\n"
      ],
      "metadata": {
        "colab": {
          "base_uri": "https://localhost:8080/"
        },
        "id": "QR16bGUP-47j",
        "outputId": "c4cfffcd-8275-426e-fab8-8e47d6d0693b"
      },
      "execution_count": 34,
      "outputs": [
        {
          "output_type": "stream",
          "name": "stdout",
          "text": [
            "x : 5, y : 3, z : 2\n"
          ]
        }
      ]
    },
    {
      "cell_type": "code",
      "source": [
        "# what is the data type : nature of data that any variable can hold\n",
        "int_number = 10\n",
        "float_number = 10.20\n",
        "string_text = 'Hello World'\n",
        "complex_number = 2 + 3j\n",
        "\n",
        "# to find the type of any variable\n",
        "print(type(int_number))\n",
        "print(type(complex_number))\n",
        "print(type(string_text))\n",
        "\n",
        "# to see imaginary and real parts of complex number\n",
        "print(f'real : {complex_number.real}')\n",
        "print(f'imag : {complex_number.imag}')"
      ],
      "metadata": {
        "colab": {
          "base_uri": "https://localhost:8080/"
        },
        "id": "a9yOFmfnB6eR",
        "outputId": "474e1d28-61cf-4448-c497-7f874c427313"
      },
      "execution_count": 37,
      "outputs": [
        {
          "output_type": "stream",
          "name": "stdout",
          "text": [
            "<class 'int'>\n",
            "<class 'complex'>\n",
            "<class 'str'>\n",
            "real : 2.0\n",
            "imag : 3.0\n"
          ]
        }
      ]
    }
  ]
}